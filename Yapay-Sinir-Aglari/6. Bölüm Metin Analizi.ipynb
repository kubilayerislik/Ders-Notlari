{
 "cells": [
  {
   "attachments": {},
   "cell_type": "markdown",
   "metadata": {},
   "source": [
    "# Müzik Sınıflandırması\n",
    "\n",
    "Metin analizinin temel adımları aşağıdaki gösterilecektir. Uygulama sırasında, ön veri hazırlama aşamaları, makine öğrenmesi sınıflandırma işlemleri gerçekleştirilecektir.\n",
    "\n",
    "\n",
    "Örnek çalışmada farklı türlerdeki şarkıların sözlerini içeren bir veri seti kullanılacaktır. https://www.kaggle.com/mehedihasan9021/movie-script-dataset\n",
    "\n",
    "\n",
    "İlk olarak kullanılacak verinin pandas ile sisteme aktarılması gerekmektedir."
   ]
  },
  {
   "cell_type": "code",
   "execution_count": 36,
   "metadata": {},
   "outputs": [
    {
     "data": {
      "text/html": [
       "<div>\n",
       "<style scoped>\n",
       "    .dataframe tbody tr th:only-of-type {\n",
       "        vertical-align: middle;\n",
       "    }\n",
       "\n",
       "    .dataframe tbody tr th {\n",
       "        vertical-align: top;\n",
       "    }\n",
       "\n",
       "    .dataframe thead th {\n",
       "        text-align: right;\n",
       "    }\n",
       "</style>\n",
       "<table border=\"1\" class=\"dataframe\">\n",
       "  <thead>\n",
       "    <tr style=\"text-align: right;\">\n",
       "      <th></th>\n",
       "      <th>genre</th>\n",
       "      <th>lyrics</th>\n",
       "      <th>SongInfo</th>\n",
       "    </tr>\n",
       "  </thead>\n",
       "  <tbody>\n",
       "    <tr>\n",
       "      <th>0</th>\n",
       "      <td>Christian</td>\n",
       "      <td>Who am I, that the Lord of all the earth Woul...</td>\n",
       "      <td>CASTING CROWNS - WHO AM I LYRICS</td>\n",
       "    </tr>\n",
       "    <tr>\n",
       "      <th>1</th>\n",
       "      <td>Christian</td>\n",
       "      <td>Glory Revealed  By His Wounds He was pierced ...</td>\n",
       "      <td>GLORY REVEALED - BY HIS WOUNDS LYRICS</td>\n",
       "    </tr>\n",
       "    <tr>\n",
       "      <th>2</th>\n",
       "      <td>Christian</td>\n",
       "      <td>Lord of heaven and earth Lord of all creation...</td>\n",
       "      <td>CAEDMON'S CALL - GOD OF WONDERS LYRICS</td>\n",
       "    </tr>\n",
       "    <tr>\n",
       "      <th>3</th>\n",
       "      <td>Christian</td>\n",
       "      <td>I can only imagine what it will be like When ...</td>\n",
       "      <td>MERCYME - I CAN ONLY IMAGINE LYRICS</td>\n",
       "    </tr>\n",
       "    <tr>\n",
       "      <th>4</th>\n",
       "      <td>Christian</td>\n",
       "      <td>I am not skilled to understand What God has w...</td>\n",
       "      <td>AARON SHUST - MY SAVIOR MY GOD LYRICS</td>\n",
       "    </tr>\n",
       "  </tbody>\n",
       "</table>\n",
       "</div>"
      ],
      "text/plain": [
       "       genre                                             lyrics  \\\n",
       "0  Christian   Who am I, that the Lord of all the earth Woul...   \n",
       "1  Christian   Glory Revealed  By His Wounds He was pierced ...   \n",
       "2  Christian   Lord of heaven and earth Lord of all creation...   \n",
       "3  Christian   I can only imagine what it will be like When ...   \n",
       "4  Christian   I am not skilled to understand What God has w...   \n",
       "\n",
       "                                 SongInfo  \n",
       "0        CASTING CROWNS - WHO AM I LYRICS  \n",
       "1   GLORY REVEALED - BY HIS WOUNDS LYRICS  \n",
       "2  CAEDMON'S CALL - GOD OF WONDERS LYRICS  \n",
       "3     MERCYME - I CAN ONLY IMAGINE LYRICS  \n",
       "4   AARON SHUST - MY SAVIOR MY GOD LYRICS  "
      ]
     },
     "execution_count": 36,
     "metadata": {},
     "output_type": "execute_result"
    }
   ],
   "source": [
    "import pandas as pd\n",
    "data = pd.read_csv(\"dataset.csv\")\n",
    "data.head()"
   ]
  },
  {
   "attachments": {},
   "cell_type": "markdown",
   "metadata": {},
   "source": [
    "\"Müzik Türü (genre)\" ve \"Şarkı Sözleri (lyrics)\" sütunları Dataframeden ayrılarak \"columns\" adında bir dataframe oluşturulmaktadır."
   ]
  },
  {
   "cell_type": "code",
   "execution_count": 37,
   "metadata": {},
   "outputs": [
    {
     "data": {
      "text/html": [
       "<div>\n",
       "<style scoped>\n",
       "    .dataframe tbody tr th:only-of-type {\n",
       "        vertical-align: middle;\n",
       "    }\n",
       "\n",
       "    .dataframe tbody tr th {\n",
       "        vertical-align: top;\n",
       "    }\n",
       "\n",
       "    .dataframe thead th {\n",
       "        text-align: right;\n",
       "    }\n",
       "</style>\n",
       "<table border=\"1\" class=\"dataframe\">\n",
       "  <thead>\n",
       "    <tr style=\"text-align: right;\">\n",
       "      <th></th>\n",
       "      <th>genre</th>\n",
       "      <th>lyrics</th>\n",
       "    </tr>\n",
       "  </thead>\n",
       "  <tbody>\n",
       "    <tr>\n",
       "      <th>0</th>\n",
       "      <td>Christian</td>\n",
       "      <td>Who am I, that the Lord of all the earth Woul...</td>\n",
       "    </tr>\n",
       "    <tr>\n",
       "      <th>1</th>\n",
       "      <td>Christian</td>\n",
       "      <td>Glory Revealed  By His Wounds He was pierced ...</td>\n",
       "    </tr>\n",
       "    <tr>\n",
       "      <th>2</th>\n",
       "      <td>Christian</td>\n",
       "      <td>Lord of heaven and earth Lord of all creation...</td>\n",
       "    </tr>\n",
       "    <tr>\n",
       "      <th>3</th>\n",
       "      <td>Christian</td>\n",
       "      <td>I can only imagine what it will be like When ...</td>\n",
       "    </tr>\n",
       "    <tr>\n",
       "      <th>4</th>\n",
       "      <td>Christian</td>\n",
       "      <td>I am not skilled to understand What God has w...</td>\n",
       "    </tr>\n",
       "    <tr>\n",
       "      <th>...</th>\n",
       "      <td>...</td>\n",
       "      <td>...</td>\n",
       "    </tr>\n",
       "    <tr>\n",
       "      <th>553</th>\n",
       "      <td>R&amp;B</td>\n",
       "      <td>Ha I dont care ha, about your past I just wan...</td>\n",
       "    </tr>\n",
       "    <tr>\n",
       "      <th>554</th>\n",
       "      <td>R&amp;B</td>\n",
       "      <td>Hoverin by my suitcase  Tryin to find a warm ...</td>\n",
       "    </tr>\n",
       "    <tr>\n",
       "      <th>555</th>\n",
       "      <td>R&amp;B</td>\n",
       "      <td>I dont know why I love you like I do  After a...</td>\n",
       "    </tr>\n",
       "    <tr>\n",
       "      <th>556</th>\n",
       "      <td>R&amp;B</td>\n",
       "      <td>C. C. Rider Elvis Presley  Well now see., C. ...</td>\n",
       "    </tr>\n",
       "    <tr>\n",
       "      <th>557</th>\n",
       "      <td>R&amp;B</td>\n",
       "      <td>Cynthia get up and dance to the music!  Get o...</td>\n",
       "    </tr>\n",
       "  </tbody>\n",
       "</table>\n",
       "<p>558 rows × 2 columns</p>\n",
       "</div>"
      ],
      "text/plain": [
       "         genre                                             lyrics\n",
       "0    Christian   Who am I, that the Lord of all the earth Woul...\n",
       "1    Christian   Glory Revealed  By His Wounds He was pierced ...\n",
       "2    Christian   Lord of heaven and earth Lord of all creation...\n",
       "3    Christian   I can only imagine what it will be like When ...\n",
       "4    Christian   I am not skilled to understand What God has w...\n",
       "..         ...                                                ...\n",
       "553        R&B   Ha I dont care ha, about your past I just wan...\n",
       "554        R&B   Hoverin by my suitcase  Tryin to find a warm ...\n",
       "555        R&B   I dont know why I love you like I do  After a...\n",
       "556        R&B   C. C. Rider Elvis Presley  Well now see., C. ...\n",
       "557        R&B   Cynthia get up and dance to the music!  Get o...\n",
       "\n",
       "[558 rows x 2 columns]"
      ]
     },
     "execution_count": 37,
     "metadata": {},
     "output_type": "execute_result"
    }
   ],
   "source": [
    "columns = data[['genre', 'lyrics']]\n",
    "columns"
   ]
  },
  {
   "attachments": {},
   "cell_type": "markdown",
   "metadata": {},
   "source": [
    "Hangi tür müziklerin olduğunu inceleniyor."
   ]
  },
  {
   "cell_type": "code",
   "execution_count": 38,
   "metadata": {},
   "outputs": [
    {
     "data": {
      "text/plain": [
       "array(['Christian', 'Country', 'Hip-Hop', 'Pop', 'Rock', 'R&B'],\n",
       "      dtype=object)"
      ]
     },
     "execution_count": 38,
     "metadata": {},
     "output_type": "execute_result"
    }
   ],
   "source": [
    "columns['genre'].unique()"
   ]
  },
  {
   "cell_type": "code",
   "execution_count": 39,
   "metadata": {},
   "outputs": [
    {
     "data": {
      "text/plain": [
       "Pop          100\n",
       "Rock          95\n",
       "Christian     94\n",
       "Hip-Hop       91\n",
       "R&B           91\n",
       "Country       87\n",
       "Name: genre, dtype: int64"
      ]
     },
     "execution_count": 39,
     "metadata": {},
     "output_type": "execute_result"
    }
   ],
   "source": [
    "columns['genre'].value_counts()"
   ]
  },
  {
   "attachments": {},
   "cell_type": "markdown",
   "metadata": {},
   "source": [
    "Doğal dil işleminin kısa sürmesi amacıyla çalışmada sadece seçilen iki müzik türü kullanılacaktır. \"Rock\" ve \"Christian\""
   ]
  },
  {
   "cell_type": "code",
   "execution_count": 40,
   "metadata": {},
   "outputs": [],
   "source": [
    "columns = columns[(columns.genre == 'Country') | (columns.genre == 'Christian')]"
   ]
  },
  {
   "attachments": {},
   "cell_type": "markdown",
   "metadata": {},
   "source": [
    "## Text Verisinin Önişlemlerinin Gerçekleştirilmesi\n",
    "\n",
    "Metin analizi ve doğal dil işleme gibi makine öğrenmesi modellerini eğitmek amacıyla metin verilerini kullanmak için bunların uygun bir formata getirilmesi gerekmektedir. Aşağıdaki ön hazırlık adımları bu konuda bize yardımcı olacaktır. \n",
    "\n",
    "### Küçük Harfe Dönüştürme\n",
    "\n",
    "String değişkenlerde büyük harf küçük harf duyarlılığı olduğu için analizlerde sorun olmaması için öncelikle tüm metin ifadelerinin küçük harfe dönüştürülür."
   ]
  },
  {
   "cell_type": "code",
   "execution_count": 41,
   "metadata": {},
   "outputs": [],
   "source": [
    "lowered = columns['lyrics'].str.lower()"
   ]
  },
  {
   "attachments": {},
   "cell_type": "markdown",
   "metadata": {},
   "source": [
    "### Noktalama işaretlerinin kaldırılması\n",
    "\n",
    "Tüm harfler küçük harflere dönüştürüldükten sonra yapılması gereken bir sonraki işlem noktalama işaretlerinin kaldırılmasıdır. Burada \"re\" kütüphanesinden yararlanılacaktır."
   ]
  },
  {
   "cell_type": "code",
   "execution_count": 42,
   "metadata": {},
   "outputs": [],
   "source": [
    "import re\n",
    "\n",
    "reg = re.compile('[^a-zA-Z ]')\n",
    "for i, line in enumerate(lowered):\n",
    "    lowered[i] = reg.sub('', line)"
   ]
  },
  {
   "cell_type": "code",
   "execution_count": 43,
   "metadata": {},
   "outputs": [
    {
     "name": "stderr",
     "output_type": "stream",
     "text": [
      "C:\\Users\\kubil\\AppData\\Local\\Temp\\ipykernel_8444\\1032143912.py:1: SettingWithCopyWarning: \n",
      "A value is trying to be set on a copy of a slice from a DataFrame.\n",
      "Try using .loc[row_indexer,col_indexer] = value instead\n",
      "\n",
      "See the caveats in the documentation: https://pandas.pydata.org/pandas-docs/stable/user_guide/indexing.html#returning-a-view-versus-a-copy\n",
      "  columns['lowered'] = lowered\n"
     ]
    },
    {
     "data": {
      "text/plain": [
       "0       who am i that the lord of all the earth would...\n",
       "1       glory revealed  by his wounds he was pierced ...\n",
       "2       lord of heaven and earth lord of all creation...\n",
       "3       i can only imagine what it will be like when ...\n",
       "4       i am not skilled to understand what god has w...\n",
       "                             ...                        \n",
       "176     one evening as the sun went down and the jung...\n",
       "177     i see the questions in your eyes i know whats...\n",
       "178     big orange ball sinkin in the water toes in t...\n",
       "179     dolly parton greatest hits jolene jolene jole...\n",
       "180     please help me im falling in love with you cl...\n",
       "Name: lowered, Length: 181, dtype: object"
      ]
     },
     "execution_count": 43,
     "metadata": {},
     "output_type": "execute_result"
    }
   ],
   "source": [
    "columns['lowered'] = lowered\n",
    "columns['lowered']"
   ]
  },
  {
   "attachments": {},
   "cell_type": "markdown",
   "metadata": {},
   "source": [
    "### Simgeleştirme\n",
    "\n",
    "Mevcut metinler ayrı kelimelere bölünmelidir. Bu işleme tokenization (simgeleştirme) adı verilmektedir. Bu işlemi yapmak için \"nltk\" kütüphanesinden yararlanılmaktadır."
   ]
  },
  {
   "cell_type": "code",
   "execution_count": 44,
   "metadata": {},
   "outputs": [
    {
     "name": "stderr",
     "output_type": "stream",
     "text": [
      "[nltk_data] Downloading package punkt to\n",
      "[nltk_data]     C:\\Users\\kubil\\AppData\\Roaming\\nltk_data...\n",
      "[nltk_data]   Package punkt is already up-to-date!\n"
     ]
    },
    {
     "data": {
      "text/plain": [
       "True"
      ]
     },
     "execution_count": 44,
     "metadata": {},
     "output_type": "execute_result"
    }
   ],
   "source": [
    "import nltk\n",
    "from nltk.tokenize import word_tokenize\n",
    "from nltk.tokenize import RegexpTokenizer\n",
    "\n",
    "nltk.download('punkt')"
   ]
  },
  {
   "cell_type": "code",
   "execution_count": 45,
   "metadata": {},
   "outputs": [
    {
     "name": "stderr",
     "output_type": "stream",
     "text": [
      "C:\\Users\\kubil\\AppData\\Local\\Temp\\ipykernel_8444\\926612404.py:2: SettingWithCopyWarning: \n",
      "A value is trying to be set on a copy of a slice from a DataFrame.\n",
      "Try using .loc[row_indexer,col_indexer] = value instead\n",
      "\n",
      "See the caveats in the documentation: https://pandas.pydata.org/pandas-docs/stable/user_guide/indexing.html#returning-a-view-versus-a-copy\n",
      "  columns['tokened'] = tokened\n"
     ]
    }
   ],
   "source": [
    "tokened = columns.apply(lambda row: nltk.word_tokenize(row['lowered']), axis=1)\n",
    "columns['tokened'] = tokened"
   ]
  },
  {
   "attachments": {},
   "cell_type": "markdown",
   "metadata": {},
   "source": [
    "### Durdurma Sözcüklerinin Kaldırılması\n",
    "\n",
    "Durdurma sözcükleri, belirli bir anlam yükü taşımayan ve bu nedenle sonraki sınıflandırma görevinde hiçbir şekilde yardımcı olmayan yaygın sözcüklerdir. Bu tür kelimeleri gürültü olarak kabul eder ve buna göre sileriz. Farklı dillerde belirli bir durdurma sözcükleri külliyatı vardır. Artık İngilizce metinlerle uğraştığımız için, İngilizce için durdurma sözcükleri çıkaracağız:"
   ]
  },
  {
   "cell_type": "code",
   "execution_count": 46,
   "metadata": {},
   "outputs": [
    {
     "name": "stdout",
     "output_type": "stream",
     "text": [
      "['i', 'me', 'my', 'myself', 'we', 'our', 'ours', 'ourselves', 'you', \"you're\", \"you've\", \"you'll\", \"you'd\", 'your', 'yours', 'yourself', 'yourselves', 'he', 'him', 'his', 'himself', 'she', \"she's\", 'her', 'hers', 'herself', 'it', \"it's\", 'its', 'itself', 'they', 'them', 'their', 'theirs', 'themselves', 'what', 'which', 'who', 'whom', 'this', 'that', \"that'll\", 'these', 'those', 'am', 'is', 'are', 'was', 'were', 'be', 'been', 'being', 'have', 'has', 'had', 'having', 'do', 'does', 'did', 'doing', 'a', 'an', 'the', 'and', 'but', 'if', 'or', 'because', 'as', 'until', 'while', 'of', 'at', 'by', 'for', 'with', 'about', 'against', 'between', 'into', 'through', 'during', 'before', 'after', 'above', 'below', 'to', 'from', 'up', 'down', 'in', 'out', 'on', 'off', 'over', 'under', 'again', 'further', 'then', 'once', 'here', 'there', 'when', 'where', 'why', 'how', 'all', 'any', 'both', 'each', 'few', 'more', 'most', 'other', 'some', 'such', 'no', 'nor', 'not', 'only', 'own', 'same', 'so', 'than', 'too', 'very', 's', 't', 'can', 'will', 'just', 'don', \"don't\", 'should', \"should've\", 'now', 'd', 'll', 'm', 'o', 're', 've', 'y', 'ain', 'aren', \"aren't\", 'couldn', \"couldn't\", 'didn', \"didn't\", 'doesn', \"doesn't\", 'hadn', \"hadn't\", 'hasn', \"hasn't\", 'haven', \"haven't\", 'isn', \"isn't\", 'ma', 'mightn', \"mightn't\", 'mustn', \"mustn't\", 'needn', \"needn't\", 'shan', \"shan't\", 'shouldn', \"shouldn't\", 'wasn', \"wasn't\", 'weren', \"weren't\", 'won', \"won't\", 'wouldn', \"wouldn't\"]\n"
     ]
    },
    {
     "name": "stderr",
     "output_type": "stream",
     "text": [
      "[nltk_data] Downloading package stopwords to\n",
      "[nltk_data]     C:\\Users\\kubil\\AppData\\Roaming\\nltk_data...\n",
      "[nltk_data]   Package stopwords is already up-to-date!\n"
     ]
    }
   ],
   "source": [
    "nltk.download('stopwords')\n",
    "from nltk.corpus import stopwords\n",
    "print(stopwords.words('english'))"
   ]
  },
  {
   "cell_type": "code",
   "execution_count": 47,
   "metadata": {},
   "outputs": [
    {
     "name": "stdout",
     "output_type": "stream",
     "text": [
      "0      lord earth would care know name would care fee...\n",
      "1      glory revealed wounds pierced transgressions c...\n",
      "2      lord heaven earth lord creation lord heaven ea...\n",
      "3      imagine like walk side imagine eyes see face i...\n",
      "4      skilled understand god willed god planned know...\n",
      "                             ...                        \n",
      "176    one evening sun went jungle fire burning track...\n",
      "177    see questions eyes know whats weighing mind su...\n",
      "178    big orange ball sinkin water toes sand couldnt...\n",
      "179    dolly parton greatest hits jolene jolene jolen...\n",
      "180    please help im falling love close door temptat...\n",
      "Name: without_stop, Length: 181, dtype: object\n"
     ]
    },
    {
     "name": "stderr",
     "output_type": "stream",
     "text": [
      "C:\\Users\\kubil\\AppData\\Local\\Temp\\ipykernel_8444\\3495880655.py:7: SettingWithCopyWarning: \n",
      "A value is trying to be set on a copy of a slice from a DataFrame.\n",
      "Try using .loc[row_indexer,col_indexer] = value instead\n",
      "\n",
      "See the caveats in the documentation: https://pandas.pydata.org/pandas-docs/stable/user_guide/indexing.html#returning-a-view-versus-a-copy\n",
      "  columns['without_stop'] = without_stop\n"
     ]
    }
   ],
   "source": [
    "noise = stopwords.words('english')\n",
    "withoutstop = columns['tokened'].apply(lambda x: [item for item in x if item not in noise])\n",
    "without_stop = []\n",
    "for a in withoutstop:  \n",
    "    #a = re.sub('[!@#$]', '', a)\n",
    "    without_stop.append(\" \".join(a))\n",
    "columns['without_stop'] = without_stop\n",
    "print(columns['without_stop'])"
   ]
  },
  {
   "attachments": {},
   "cell_type": "markdown",
   "metadata": {},
   "source": [
    "### Lemmatizasyon\n",
    "\n",
    "Aynı kelimenin farklı biçimleri vardır. Örneğin, 'danslar', 'dans' kelimesinin bir biçimidir. Lemmatizasyon, kelimenin orijinal biçimi olan lemmaya indirgemedir. Ayrıca, kelimenin farklı biçimlerinin ayrı kelimeler olarak kabul edilmemesi için verilerimize uygulanması gerekir.\n",
    "\n",
    "Bazı lemmatizerler farklı dillerde farklı etkilerle kendilerini gösterirler. WordNetLemmatizer, İngilizce ile çalışmak için etkilidir"
   ]
  },
  {
   "cell_type": "code",
   "execution_count": 48,
   "metadata": {},
   "outputs": [
    {
     "name": "stderr",
     "output_type": "stream",
     "text": [
      "[nltk_data] Downloading package wordnet to\n",
      "[nltk_data]     C:\\Users\\kubil\\AppData\\Roaming\\nltk_data...\n",
      "[nltk_data]   Package wordnet is already up-to-date!\n",
      "[nltk_data] Downloading package omw-1.4 to\n",
      "[nltk_data]     C:\\Users\\kubil\\AppData\\Roaming\\nltk_data...\n",
      "[nltk_data]   Package omw-1.4 is already up-to-date!\n"
     ]
    },
    {
     "data": {
      "text/plain": [
       "True"
      ]
     },
     "execution_count": 48,
     "metadata": {},
     "output_type": "execute_result"
    }
   ],
   "source": [
    "from nltk.stem import WordNetLemmatizer \n",
    "nltk.download('wordnet')\n",
    "nltk.download('omw-1.4')"
   ]
  },
  {
   "cell_type": "code",
   "execution_count": 49,
   "metadata": {},
   "outputs": [
    {
     "name": "stderr",
     "output_type": "stream",
     "text": [
      "C:\\Users\\kubil\\AppData\\Local\\Temp\\ipykernel_8444\\1886906035.py:6: SettingWithCopyWarning: \n",
      "A value is trying to be set on a copy of a slice from a DataFrame.\n",
      "Try using .loc[row_indexer,col_indexer] = value instead\n",
      "\n",
      "See the caveats in the documentation: https://pandas.pydata.org/pandas-docs/stable/user_guide/indexing.html#returning-a-view-versus-a-copy\n",
      "  columns['lemmatized'] = lemma\n"
     ]
    },
    {
     "data": {
      "text/html": [
       "<div>\n",
       "<style scoped>\n",
       "    .dataframe tbody tr th:only-of-type {\n",
       "        vertical-align: middle;\n",
       "    }\n",
       "\n",
       "    .dataframe tbody tr th {\n",
       "        vertical-align: top;\n",
       "    }\n",
       "\n",
       "    .dataframe thead th {\n",
       "        text-align: right;\n",
       "    }\n",
       "</style>\n",
       "<table border=\"1\" class=\"dataframe\">\n",
       "  <thead>\n",
       "    <tr style=\"text-align: right;\">\n",
       "      <th></th>\n",
       "      <th>genre</th>\n",
       "      <th>lyrics</th>\n",
       "      <th>lowered</th>\n",
       "      <th>tokened</th>\n",
       "      <th>without_stop</th>\n",
       "      <th>lemmatized</th>\n",
       "    </tr>\n",
       "  </thead>\n",
       "  <tbody>\n",
       "    <tr>\n",
       "      <th>0</th>\n",
       "      <td>Christian</td>\n",
       "      <td>Who am I, that the Lord of all the earth Woul...</td>\n",
       "      <td>who am i that the lord of all the earth would...</td>\n",
       "      <td>[who, am, i, that, the, lord, of, all, the, ea...</td>\n",
       "      <td>lord earth would care know name would care fee...</td>\n",
       "      <td>lord earth would care know name would care fee...</td>\n",
       "    </tr>\n",
       "    <tr>\n",
       "      <th>1</th>\n",
       "      <td>Christian</td>\n",
       "      <td>Glory Revealed  By His Wounds He was pierced ...</td>\n",
       "      <td>glory revealed  by his wounds he was pierced ...</td>\n",
       "      <td>[glory, revealed, by, his, wounds, he, was, pi...</td>\n",
       "      <td>glory revealed wounds pierced transgressions c...</td>\n",
       "      <td>glory revealed wounds pierced transgressions c...</td>\n",
       "    </tr>\n",
       "    <tr>\n",
       "      <th>2</th>\n",
       "      <td>Christian</td>\n",
       "      <td>Lord of heaven and earth Lord of all creation...</td>\n",
       "      <td>lord of heaven and earth lord of all creation...</td>\n",
       "      <td>[lord, of, heaven, and, earth, lord, of, all, ...</td>\n",
       "      <td>lord heaven earth lord creation lord heaven ea...</td>\n",
       "      <td>lord heaven earth lord creation lord heaven ea...</td>\n",
       "    </tr>\n",
       "    <tr>\n",
       "      <th>3</th>\n",
       "      <td>Christian</td>\n",
       "      <td>I can only imagine what it will be like When ...</td>\n",
       "      <td>i can only imagine what it will be like when ...</td>\n",
       "      <td>[i, can, only, imagine, what, it, will, be, li...</td>\n",
       "      <td>imagine like walk side imagine eyes see face i...</td>\n",
       "      <td>imagine like walk side imagine eyes see face i...</td>\n",
       "    </tr>\n",
       "    <tr>\n",
       "      <th>4</th>\n",
       "      <td>Christian</td>\n",
       "      <td>I am not skilled to understand What God has w...</td>\n",
       "      <td>i am not skilled to understand what god has w...</td>\n",
       "      <td>[i, am, not, skilled, to, understand, what, go...</td>\n",
       "      <td>skilled understand god willed god planned know...</td>\n",
       "      <td>skilled understand god willed god planned know...</td>\n",
       "    </tr>\n",
       "    <tr>\n",
       "      <th>...</th>\n",
       "      <td>...</td>\n",
       "      <td>...</td>\n",
       "      <td>...</td>\n",
       "      <td>...</td>\n",
       "      <td>...</td>\n",
       "      <td>...</td>\n",
       "    </tr>\n",
       "    <tr>\n",
       "      <th>176</th>\n",
       "      <td>Country</td>\n",
       "      <td>One evening as the sun went down And the jung...</td>\n",
       "      <td>one evening as the sun went down and the jung...</td>\n",
       "      <td>[one, evening, as, the, sun, went, down, and, ...</td>\n",
       "      <td>one evening sun went jungle fire burning track...</td>\n",
       "      <td>one evening sun went jungle fire burning track...</td>\n",
       "    </tr>\n",
       "    <tr>\n",
       "      <th>177</th>\n",
       "      <td>Country</td>\n",
       "      <td>I see the questions in your eyes I know whats...</td>\n",
       "      <td>i see the questions in your eyes i know whats...</td>\n",
       "      <td>[i, see, the, questions, in, your, eyes, i, kn...</td>\n",
       "      <td>see questions eyes know whats weighing mind su...</td>\n",
       "      <td>see questions eyes know whats weighing mind su...</td>\n",
       "    </tr>\n",
       "    <tr>\n",
       "      <th>178</th>\n",
       "      <td>Country</td>\n",
       "      <td>Big orange ball sinkin in the water Toes in t...</td>\n",
       "      <td>big orange ball sinkin in the water toes in t...</td>\n",
       "      <td>[big, orange, ball, sinkin, in, the, water, to...</td>\n",
       "      <td>big orange ball sinkin water toes sand couldnt...</td>\n",
       "      <td>big orange ball sinkin water toes sand couldnt...</td>\n",
       "    </tr>\n",
       "    <tr>\n",
       "      <th>179</th>\n",
       "      <td>Country</td>\n",
       "      <td>Dolly Parton Greatest Hits Jolene Jolene, jol...</td>\n",
       "      <td>dolly parton greatest hits jolene jolene jole...</td>\n",
       "      <td>[dolly, parton, greatest, hits, jolene, jolene...</td>\n",
       "      <td>dolly parton greatest hits jolene jolene jolen...</td>\n",
       "      <td>dolly parton greatest hits jolene jolene jolen...</td>\n",
       "    </tr>\n",
       "    <tr>\n",
       "      <th>180</th>\n",
       "      <td>Country</td>\n",
       "      <td>Please help me Im falling in love with you Cl...</td>\n",
       "      <td>please help me im falling in love with you cl...</td>\n",
       "      <td>[please, help, me, im, falling, in, love, with...</td>\n",
       "      <td>please help im falling love close door temptat...</td>\n",
       "      <td>please help im falling love close door temptat...</td>\n",
       "    </tr>\n",
       "  </tbody>\n",
       "</table>\n",
       "<p>181 rows × 6 columns</p>\n",
       "</div>"
      ],
      "text/plain": [
       "         genre                                             lyrics  \\\n",
       "0    Christian   Who am I, that the Lord of all the earth Woul...   \n",
       "1    Christian   Glory Revealed  By His Wounds He was pierced ...   \n",
       "2    Christian   Lord of heaven and earth Lord of all creation...   \n",
       "3    Christian   I can only imagine what it will be like When ...   \n",
       "4    Christian   I am not skilled to understand What God has w...   \n",
       "..         ...                                                ...   \n",
       "176    Country   One evening as the sun went down And the jung...   \n",
       "177    Country   I see the questions in your eyes I know whats...   \n",
       "178    Country   Big orange ball sinkin in the water Toes in t...   \n",
       "179    Country   Dolly Parton Greatest Hits Jolene Jolene, jol...   \n",
       "180    Country   Please help me Im falling in love with you Cl...   \n",
       "\n",
       "                                               lowered  \\\n",
       "0     who am i that the lord of all the earth would...   \n",
       "1     glory revealed  by his wounds he was pierced ...   \n",
       "2     lord of heaven and earth lord of all creation...   \n",
       "3     i can only imagine what it will be like when ...   \n",
       "4     i am not skilled to understand what god has w...   \n",
       "..                                                 ...   \n",
       "176   one evening as the sun went down and the jung...   \n",
       "177   i see the questions in your eyes i know whats...   \n",
       "178   big orange ball sinkin in the water toes in t...   \n",
       "179   dolly parton greatest hits jolene jolene jole...   \n",
       "180   please help me im falling in love with you cl...   \n",
       "\n",
       "                                               tokened  \\\n",
       "0    [who, am, i, that, the, lord, of, all, the, ea...   \n",
       "1    [glory, revealed, by, his, wounds, he, was, pi...   \n",
       "2    [lord, of, heaven, and, earth, lord, of, all, ...   \n",
       "3    [i, can, only, imagine, what, it, will, be, li...   \n",
       "4    [i, am, not, skilled, to, understand, what, go...   \n",
       "..                                                 ...   \n",
       "176  [one, evening, as, the, sun, went, down, and, ...   \n",
       "177  [i, see, the, questions, in, your, eyes, i, kn...   \n",
       "178  [big, orange, ball, sinkin, in, the, water, to...   \n",
       "179  [dolly, parton, greatest, hits, jolene, jolene...   \n",
       "180  [please, help, me, im, falling, in, love, with...   \n",
       "\n",
       "                                          without_stop  \\\n",
       "0    lord earth would care know name would care fee...   \n",
       "1    glory revealed wounds pierced transgressions c...   \n",
       "2    lord heaven earth lord creation lord heaven ea...   \n",
       "3    imagine like walk side imagine eyes see face i...   \n",
       "4    skilled understand god willed god planned know...   \n",
       "..                                                 ...   \n",
       "176  one evening sun went jungle fire burning track...   \n",
       "177  see questions eyes know whats weighing mind su...   \n",
       "178  big orange ball sinkin water toes sand couldnt...   \n",
       "179  dolly parton greatest hits jolene jolene jolen...   \n",
       "180  please help im falling love close door temptat...   \n",
       "\n",
       "                                            lemmatized  \n",
       "0    lord earth would care know name would care fee...  \n",
       "1    glory revealed wounds pierced transgressions c...  \n",
       "2    lord heaven earth lord creation lord heaven ea...  \n",
       "3    imagine like walk side imagine eyes see face i...  \n",
       "4    skilled understand god willed god planned know...  \n",
       "..                                                 ...  \n",
       "176  one evening sun went jungle fire burning track...  \n",
       "177  see questions eyes know whats weighing mind su...  \n",
       "178  big orange ball sinkin water toes sand couldnt...  \n",
       "179  dolly parton greatest hits jolene jolene jolen...  \n",
       "180  please help im falling love close door temptat...  \n",
       "\n",
       "[181 rows x 6 columns]"
      ]
     },
     "execution_count": 49,
     "metadata": {},
     "output_type": "execute_result"
    }
   ],
   "source": [
    "lemmatizer = WordNetLemmatizer()\n",
    "lemmatized = columns['without_stop'].apply(lambda x: [lemmatizer.lemmatize(x)])\n",
    "lemma = []\n",
    "for a in lemmatized:    \n",
    "    lemma.append(\", \".join(a))\n",
    "columns['lemmatized'] = lemma\n",
    "columns"
   ]
  },
  {
   "cell_type": "markdown",
   "metadata": {},
   "source": [
    "### Verilerin Bölünmesi \n",
    "\n",
    "x_train - modeli eğittiğimiz metinler. Bu durumda, tüm hazırlık aşamalarından geçmiş verileri içerdiğinden lemmatized sütunu kullanıyoruz.\n",
    "\n",
    "y_train - modelin üzerinde eğitildiği metinlere karşılık gelen türler - tür sütunu\n",
    "\n",
    "x_test - modelin türü tahmin etmeyi ne ölçüde öğrendiğini kontrol edeceğimiz veri kümesindeki tam olarak aynı metinler\n",
    "\n",
    "y_test - x_test'e karşılık gelen türler. yani, öğrenme kalitesini değerlendirmek için bu değişkenin içeriğine ne kadar tahminin karşılık geldiğine bakarız."
   ]
  },
  {
   "cell_type": "code",
   "execution_count": 50,
   "metadata": {},
   "outputs": [
    {
     "name": "stdout",
     "output_type": "stream",
     "text": [
      "worthy lamb slain holy holy sing new song sits heavens mercy seat worthy lamb slain holy holy sing new song sits heavens mercy seat holy holy holy lord god almighty come creation sing praise king kings everything adore clothed rainbows living color flashes lightning rolls thunder blessing honor strength glory power wise king holy holy holy lord god almighty come creation sing praise king kings everything adore adore filled wonder awestruck wonder mention name jesus name power breath living water moment mystery oh youre worthy mystery worthy yes holy holy holy lord god almighty come creation sing praise king kings everything adore adore\n",
      "\tChristian\n",
      "\n",
      "ill bet youve never heard ole marshall dillon say miss kitty ever thought running away settling would marry ask twice begged pretty please lord shed said yes new york minute never tied knot heart wasnt stole kiss rode away never hung brim kittys place shouldve cowboy shouldve learned rope ride wearing sixshooter riding pony cattle drive stealing young girls heart yeah like gene roy sang rodeo songs yeah shouldve cowboy might side kick funny name running wild hills chasing jesse james ending brink danger riding shotgun texas rangers go west young man everybody knows california full whiskey women beer gold dont nap beneath desert star dream eye prayer heart shouldve cowboy shouldve learned rope ride wearing sixshooter riding pony cattle drive stealing young girls heart like gene roy sang cowgirl songs shouldve cowboy shouldve cowboy shouldve learned rope ride yeah wearing sixshooter riding pony cattle drive stealing young girls heart like gene roy sang redneck songs yeah shouldve cowboy shouldve cowboy shouldve learned rope ride wearing sixshooter riding pony cattle drive stealing young girls heart like gene roy singing campfire song yeah shouldve cowboy yeah cowboy shouldve learned rope ride oh wearing sixshooter riding pony cattle drive stealing young girls heart yeah like gene roy sang campfire songs shouldve cowboy say said shouldve cowboy shouldve cowboy\n",
      "\tCountry\n",
      "\n",
      "oh would kind faith takes climb boat im onto crashing waves step comfort zone realm unknown jesus hes holding hand waves calling name laugh reminding times ive tried failed waves keep telling time time boy youll never win youll never win voice truth tells different story voice truth says afraid voice truth says glory voices calling choose listen believe voice truth oh would kind strength takes stand giant sling stone surrounded sound thousand warriors shaking armor wishing theyd strength stand giants calling name laughs reminding times ive tried failed giant keeps telling time time boy youll never win youll never win voice truth tells different story voice truth says afraid voice truth says glory voices calling choose listen believe voice truth stone right size put giant ground waves dont seem high top lookin soar wings eagles stop listen sound jesus singing voice truth tells different story voice truth says afraid voice truth says glory voices calling calling choose listen believe choose listen believe voice truth listen believe listen believe voice truth listen believe cause jesus voice truth listen\n",
      "\tChristian\n",
      "\n",
      "im walkin floor cant sleep wink true im hoping im prayin heart breaks right two walkin floor well left went away said youd back day well youve broken promise left alone dont know dear know youre gone im walkin floor cant sleep wink true im hoping im prayin heart breaks right two walkin floor someday may lonesome walkin floor good keep right walkin wont hurt cry remember loved day die im walkin floor cant sleep wink true im hoping im prayin heart breaks right two walkin floor\n",
      "\tCountry\n",
      "\n",
      "well thought id waitin came home last night youd boys ended half tight liquor love dont mix leave bottle behind dont come home drinkin lovin mind dont come home drinkin lovin mind stay town see find cause want kind love well dont need none mine dont come home drinkin lovin mind instrumental never take anywhere youre always gone many night ive laid awake cried dear alone come kissin happens every time dont come home drinkin lovin mind dont come home drinkin lovin mind stay town see find cause want kind love well dont need none mine dont come home drinkin lovin mind dont come home drinkin lovin mind\n",
      "\tCountry\n",
      "\n",
      "ive got memories theyre always inside cant go back back believe ive come far cant go back back created place ive never known home im finally belong belong yeah home ive searching place ive found maybe home yeah home belief misery ive seen enemy wont go back back got heart set happens next got eyes wide yet miracles alone home im finally belong belong yeah home ive searching place ive found maybe home yeah home searching questions im gon na call home got brand new mindset finally see sunset im gon na call home home im finally belong belong yeah home ive searching place ive found maybe home yeah home know yeah home ive come far wont go back yeah home\n",
      "\tChristian\n",
      "\n",
      "see tomorrow street town pardon dont say hello hello long wouldnt look good know someone im supposed know walk wait corner love strangers meet walk wait corner love strangers meet dimly lit corner place outside town tonight well try say goodbye goodbye know ill call tomorrow night cant let go pretend\n",
      "\tCountry\n",
      "\n",
      "sometimes calling comes dreams sometimes comes spirits breeze reach deepest hope call things eternity im man dust stains move say chorus lord send life make offering lord send somehow story part plan setbacks failures upset plans test faith leave empty hands closest hardest stand know finish began broken parts redeem become song sing lord send life make offering lord send somehow story part plan overwhelmed thought weakness fear ill fail end mess im one pieces cant put together lord send wan na live life offering lord send somehow story part plan life offering somehow story part plan\n",
      "\tChristian\n",
      "\n",
      "tomorrow things gone id worked life start children wife id thank lucky stars livin today cause flag still stands freedom cant take away im proud american least know im free wont forget men died gave right gladly stand next defend still today cause aint doubt love land god bless usa lakes minnesota hills tennessee across plains texas sea shining sea detroit houston new york la well theres pride every american heart time stand say im proud american least know im free wont forget men died gave right gladly stand next defend still today cause aint doubt love land god bless usa im proud american least know im free wont forget men died gave right gladly stand next defend still today cause aint doubt love land god bless usa\n",
      "\tCountry\n",
      "\n",
      "caught glimpse splendor corner eye beautiful thing ive ever seen like flash lightning reflected sky know ill never show glory send presence want see face show glory majesty shines cant go without lord climb mountain get back life wont settle ordinary things im gon na follow forever days wont rest til see show glory send presence want see face show glory majesty shines cant go without lord lord lord show glory send presence want see face show glory majesty shines cant go without lord show glory show glory lord cant live without oh lord\n",
      "\tChristian\n",
      "\n",
      "mark schultz miscellaneous carry call hear ive lost bear feel empty strong im weary im holding feel like giving still youre prechorus chorus even though im walking valley shadow hold tight hand whos love comfort hope gone ive wounded battle strength ever need carry know im broken alone mend heart mine always even though im walking valley shadow hold tight hand whos love comfort hope gone ive wounded battle strength ever need carry carry bridge even though feel lonely like never never said would easy said youd see storm even though im walking valley shadow hold tight hand whos love comfort hope gone ive wounded battle strength ever need carry carry carry\n",
      "\tChristian\n",
      "\n",
      "long since felt like loved went wrong know theres place belong arms feel like youre alone sadness seems like one else whole world cares want get away madness call name ill call name ill pain inside erased hope love soon find ill give heart could ever want much feel like youre alone sadness seems like one else whole world cares want get away madness call name ill call name ill oh call name call name call name say want never doubt love alive call name say want never doubt love alive call name call name call name love alive love alive call name call name call name\n",
      "\tChristian\n",
      "\n",
      "one evening sun went jungle fire burning track came hobo hiking said boys im turning im headed land thats far away besides crystal fountains come well go see big rock candy mountains big rock candy mountains theres land thats fair bright handouts grow bushes sleep every night boxcars empty sun shines every day birds bees cigarette trees lemonade springs bluebird sings big rock candy mountains big rock candy mountains cops wooden legs bulldogs rubber teeth hens lay softboiled eggs farmers trees full fruit barns full hay oh im bound go aint snow rain dont fall winds dont blow big rock candy mountains big rock candy mountains never change socks little streams alcohol come trickling rocks brakemen tip hats railway bulls blind theres lake stew whiskey paddle around big canoe big rock candy mountains big rock candy mountains jails made tin walk right soon aint shorthandled shovels axes saws picks im goin stay sleep day hung jerk invented work big rock candy mountains ill see coming fall big rock candy mountains\n",
      "\tCountry\n",
      "\n",
      "new song miscellaneous god made god made youduet natalie grant eddie carswellmichael obrien always mystery two hearts come together love last forever found believe miracle come god send perfect one gone questions ive never sure anything life chorus wonder god thinking created wonder knew everything would need made dreams come true god made must thinking promise wherever may go wherever life may lead heart ill monent want know ill let nothing come us love ones love bridge made sun made moon harmonize perfect tune one cant move together know true youre im cause would cant right without life tag chorus must heard every prayer ive praying yes knew everything would need god made dreams come true must thinking\n",
      "\tChristian\n",
      "\n",
      "well love rainy night love rainy night love hear thunder watch lightning lights sky know makes feel good well love rainy night beautiful sight love feel rain face taste rain lips moonlight shadow showers washed cares away wake sunny day cause love rainy night yeah love rainy night well love rainy night well love rainy night ooh ooh love rainy night love rainy night love hear thunder watch lightning lights sky know makes feel good well love rainy night beautiful sight love feel rain face taste rain lips moonlight shadows puts song heart mine puts smile face every time cause love rainy night yeah love rainy night ooh love rainy night yeah love rainy night ooh ooh showers washed cares away wake sunny day cause love rainy night yeah love rainy night well love rainy night love rainy night well love rainy night see eyes yeah love rainy night well makes high ooh love rainy night know yeah yeah love rainy night love rainy night see eyes love rainy night makes high well love rainy night love well love rainy night yeah love rainy night well love rainy night love rainy night\n",
      "\tCountry\n",
      "\n",
      "tell world never girl burn clothes im gone tell friends fool ive laugh joke phone tell arms go back onto phone tell feet hit floor tell lips tell fingertips wont reaching dont tell heart achy breaky heart dont think itd understand tell heart achy breaky heart might blow kill man tell moved arkansas tell dog bite leg tell brother cliff whos fist tell lips never really liked anyway oh tell aunt louise tell anything please already knows im okay oh tell eyes watch mind might walking today dont tell heart achy breaky heart dont think itd understand tell heart achy breaky heart might blow kill man dont tell heart achy breaky heart dont think itd understand tell heart achy breaky heart might blow kill man dont tell heart achy breaky heart dont think itd understand tell heart achy breaky heart might blow kill man\n",
      "\tCountry\n",
      "\n",
      "mark schultz miscellaneous hes son im knees tonight im hoping prayer turnout right see boy needs help ive done mother tired im sure understand night sleeps goes hold hand tries cry tears fill eyes chorus hear getting tonight see make feel right hear let take place somehow see hes anyone hes son sometimes late night watch sleep dream boy hed like try strong see god needs right let grow old live life without fear would living without hes tired hes scared let know youre repeat chorus hear see please dont leave hes son\n",
      "\tChristian\n",
      "\n",
      "see tumbling pledging love ground lonely free ill found drifting along tumbling tumbleweeds cares past behind nowhere go ill find trail wind drifting along tumblin tumbleweeds know night gone new worlds born dawn ill keep rolling along deep heart song range belong drifting along tumbling tumbleweeds tumbleweeds tumbleweeds see tumbling pledging love ground lonely free ill found drifting along tumblin tumbleweeds\n",
      "\tCountry\n",
      "\n",
      "lyrics rise yet\n",
      "\tChristian\n",
      "\n",
      "jeannie c riley miscellaneous harper valley pta harper valley pta jeannie c riley words music tom hall want tell story bout harper valley widowed wife teenage daughter attended harper valley junior high well daughter came home one afternoon didnt even stop play said mom got note harper valley pta note said mrs johnson youre wearing dresses way high reported youve drinking arunnin round men going wild dont believe ought bringing little girl way signed secretary harper valley pta well happened pta gon na meet afternoon sure surprised mrs johnson wore miniskirt room walked blackboard still recall words say said id like address meeting harper valley pta well theres bobby taylor sittin seven times hes asked date mrs taylor sure seems use lot ice whenever hes away mr baker tell us secretary leave town shouldnt widow jones told keep window shades pulled completely well mr harper couldnt cause stayed long kellys bar smell shirley thompsons breath youll find shes little nip gin nerve tell think mother im fit well little peyton place youre harper valley hypocrites wouldnt put really happened way day mama socked harper valley pta day mama socked harper valley pta\n",
      "\tCountry\n",
      "\n",
      "cowboys aint easy love theyre harder hold theyd rather give song diamonds gold lone star belt buckles old faded levis night begins new day dont understand dont die young hell probly ride away mamas dont let babies grow cowboys dont let em pick guitars drive old trucks let em doctors lawyers mamas dont let babies grow cowboys cause theyll never stay home theyre always alone even someone love cowboys like smoky old pool rooms clear mountain mornings little warm puppies children girls night dont know wont like sometimes wont know take aint wrong hes different pride wont let things make think hes right mamas dont let babies grow cowboys dont let em pick guitars drive old trucks let em doctors lawyers mamas dont let babies grow cowboys cause theyll never stay home theyre always alone even someone love mamas dont let babies grow cowboys dont let em pick guitars drive old trucks let em doctors lawyers\n",
      "\tCountry\n",
      "\n",
      "yesterday wrinkle forehead yesterday promise youve broken dont close eyes dont close eyes life today youve got yeah today youll ever dont close eyes dont close eyes life want life want life everything dreamed would world younger everything lose yesterday kid corner yesterday dead life want life want life everything dreamed would world younger everything lose dont close eyes dont close eyes dont close eyes dont close eyes dont close eyes life want life want yeah life want want yeah life want want life everything dreamed would world younger everything lose everything lose\n",
      "\tChristian\n",
      "\n",
      "sometimes hard woman giving love one man bad times good times things dont understand love youll forgive even though hes hard understand love oh proud cause hes man stand man give two arms cling something warm come nights cold lonely stand man show world love keep giving love stand man stand man show world love keep giving love stand man\n",
      "\tCountry\n",
      "\n",
      "two things life make worth livin thats guitars tune good firm feelin women dont need name marquis lights got song got tonight maybe time got back basics love lets go luckenbach texas waylon willie boys successful life livin got us feuding like hatfields mccoys hank williams pain songs newberrys train songs blue eyes cryin rain luckenbach texas aint nobody feelin pain baby lets sell diamond ring buy boots faded jeans go away coat tie choking high society cry day weve busy keepin jones four car garage still building may time got back basics love lets go luckenbach texas waylon willie boys successful life livin got us feuding like hatfields mccoys hank williams pain songs newberrys train songs blue eyes cryin rain luckenbach texas aint nobody feelin pain lets go luckenbach texas waylon willie boys successful life livin got us feuding like hatfields mccoys hank williams pain songs jerry jeffs train songs blue eyes cryin rain luckenbach texas aint nobody feelin pain\n",
      "\tCountry\n",
      "\n",
      "everyone whos lost someone love long time feel like days enough said goodbye people burdens pains keepin back life believe theres nothing one make right hope helpless rest weary love broken hearts grace forgiveness mercy healing hell meet wherever cry jesus cry jesus marriage thats struggling hang lost faith love theyve done make right still enough ones cant break addictions chains try give come back remember youre alone shame suffering hope helpless rest weary love broken hearts grace forgiveness mercy healing hell meet wherever cry jesus youre lonely feels like whole world falling reach cry jesus cry jesus widow suffers alone wipin tears eyes children around world without home say prayer tonight hope helpless rest weary love broken hearts grace forgiveness mercy healing meets wherever hope helpless rest weary love broken hearts grace forgiveness mercy healing meets wherever cry jesus cry jesus cry jesus cry jesus\n",
      "\tChristian\n",
      "\n",
      "lift eyes bebo norman god god cry beloved needs god near calm fear take doubt kindness pulls love draws lift eyes maker mountains cant climb lift eyes calmer oceans raging wild lift eyes healer hurt hold inside lift eyes lift eyes god god let mercy sing melody god right bring kindness pulls love draws lift eyes maker mountains cant climb lift eyes calmer oceans raging wild lift eyes healer hurt hold inside lift eyes lift eyes cause forever lover need save cause fashioned earth hold together god hold lift eyes maker mountains cant climb lift eyes calmer oceans raging wild lift eyes healer hurt hold inside lift eyes lift eyes lift eyes lift eyes god god cry beloved needs\n",
      "\tChristian\n",
      "\n",
      "sit tonight jukebox playin tune wild side life listen words sayin brings memories trustin wife wasnt god made honky tonk angels said words song many times married men think theyre still single caused many good girl go wrong shame blame us women true men feel start every heart thats ever broken always man blame wasnt god made honky tonk angels said words song many times married men think theyre still single caused many good girl go wrong\n",
      "\tCountry\n",
      "\n",
      "feel tears wellin cold deep inside like hearts sprung big break stab loneliness sharp painful may never shake might say taking hard since wrote call dont wager ill hide sorrow may break right bawl race comes pride backstretch heartaches going inside tears holding back theyre trying fall hearts running true loves scratched anothers sake race looks like heartaches winner loses one day ventured love never suspecting final results would lived fear waking morning finding youd gone theres aching pain heart day one hated face somebody new came win came second place race comes pride backstretch heartaches going inside tears holding back theyre trying fall hearts running true loves scratched anothers sake race looks like heartaches winner loses\n",
      "\tCountry\n",
      "\n",
      "lyrics jesus messiah yet\n",
      "\tChristian\n",
      "\n",
      "looked broken sky traced city lights world mile high best seat house tonight touched cold black tar hold sudden stop breathe familiar shock confusion chaos people going somewhere never cared give eyes one second give eyes see everything keep missing give love humanity give arms broken hearted ones far beyond reach give heart ones forgotten give eyes see yeah yeah yeah yeah step busy street see girl eyes meet best smile hide whats underneath theres man right black suit bright red tie ashamed tell wife hes work hes buying time people going somewhere never cared give eyes one second give eyes see everything keep missing give love humanity give arms broken hearted ones far beyond reach give heart ones forgotten give eyes see yeah yeah yeah yeah ive million times couple million eyes moving past swear never thought wrong well want second glance give second chance see way see people alone give eyes one second give eyes see everything keep missing give love humanity give arms broken hearted ones far beyond reach give heart ones forgotten give eyes see give eyes one second give eyes see everything keep missing keep missing give arms broken hearted ones far beyond reach give heart ones forgotten give eyes see yeah yeah yeah yeah yeah yeah yeah yeah\n",
      "\tChristian\n",
      "\n",
      "put sweet lips little closer phone lets pretend together alone ill tell man turn jukebox way low tell friend hell go whisper tell love true holding way though love blind make mind ive got know hang tell hell go cant say words want hear youre another man want answer yes darling understand put sweet lips little closer phone lets pretend together alone ill tell man turn jukebox way low tell friend hell go\n",
      "\tCountry\n",
      "\n",
      "paint night count stars call name skies proclaim god reign glory shines teach sun bring new day creation sings god reign god reign god reign forever ever god reign part seas move mountains words say song remains god reign hold life know heart call name live say god reign god reign god reign forever ever god reign god reign god reign know reign forever ever god reign hallelujah hallelu hallelujah hallelu hallelujah hallelu hallelujah hallelu god god reign god reign reign forever ever god reign god reign god reign reign forever ever god reign god reign god reign forever ever god reign god reign god reign forever ever god reign god reign god reign forever ever god reign god reign god reign god reign god reign forever ever god reign god reign\n",
      "\tChristian\n",
      "\n",
      "lyrics im waiting yet\n",
      "\tChristian\n",
      "\n",
      "im one two left feet standing lonely street cant even walk straight line every time look im spinning like autumn leaf bound hit bottom time would without someone save someone wont let fall everything live everything cant believe happening youre standing right front arms wide open know everyday filled hope cause everything breathe cant help breathe breathe feeling life within every single beat heart im one big mistakes big regrets bigger breaks id ever care confess oh youre one looks sees meant beautiful mess oh would without someone save someone wont let fall everything live everything cant believe happening youre standing right front arms wide open know everyday filled hope cause everything breathe cant help breathe breathe feeling life within every single beat heart youre everything good life everything honest true stars hanging sky could never shine brighter everything live everything cant believe happening youre standing right front arms wide open know everyday filled hope cause everything breathe cant help breathe breathe feeling life within every single beat heart oh jesus everything\n",
      "\tChristian\n",
      "\n",
      "amazing speak right heart without saying word light dark try may could never explain hear dont say thing smile face lets know need theres truth eyes saying youll never leave touch hand says youll catch ever fall say best say nothing day long hear people talking loud hold near drown crowd old mr webster could never define whats said heart mine smile face lets know need theres truth eyes saying youll never leave touch hand says youll catch ever fall yeah say best say nothing smile face lets know need theres truth eyes saying youll never leave touch hand says youll catch ever fall yeah say best say nothing\n",
      "\tCountry\n",
      "\n",
      "even drop ocean even star sky even world put motion throne throne reign glory highest reign let creation testify name every knee bow every tongue proclaim jesus reigns even hand made heavens even breath mankind even forgiven throne throne reign glory highest reign let creation testify name every knee bow every tongue proclaim jesus reigns yesterday today forever god come reign glory highest reign reign glory highest reign let creation testify name every knee bow every tongue proclaim let every tongue proclaim let every tongue proclaim jesus reigns\n",
      "\tChristian\n",
      "\n",
      "theres well beaten path old mountainside wandered lad wandered alone place call home blueridge hills far away oh love hills old virginia blueridge hills roam die wont bury mountain far away near blueridge mountain home thoughts wander back ramshackle shack blue ridge hills far away mother dad laid rest sleeping peace together return old cabin home sigh ive longing days gone die wont bury old mountain side make resting place upon hills high\n",
      "\tCountry\n",
      "\n",
      "got ta start somewhere got ta start sometime got ta start somewhere say got ta start sometime say fog hope distance cathedrals third world missions love fall earth like crashing wave tonights night sinners saints two worlds collide beautiful display love tonight step across line sail across sea city one king city knees city knees oh got ta start somewhere got ta start sometime got ta start somewhere say got ta start sometime say fog hope distance cathedrals third world missions love fall earth like crashing wave tonights night sinners saints two worlds collide beautiful display love tonight step across line sail across sea city one king city knees city knees oh tonight couldnt last forever one choice together tonight couldnt last forever oh tonight couldnt last forever one choice together family family oh tonight couldnt last forever one choice together yeah tonights night sinners saints two worlds collide glorious display cause love tonight step across line sail across sea city one king city knees city knees oh city knees city knees oh got ta start somewhere got ta start sometime\n",
      "\tChristian\n",
      "\n",
      "ive standing door praying youll let back label prodigal would scratching surface ive known turn around pick undo ive become bring back place forgiveness grace need need help cant youre one undo ive become focused score never win trying ignore life hiding sin label hypocrite would scratching surface ive known yeah turn around pick undo ive become bring back place forgiveness grace need need help cant youre one undo ive become make every step lead back sovereign way turn around pick undo ive become bring back place forgiveness grace need need help cant youre one undo one undo one undo ive become youre one\n",
      "\tChristian\n",
      "\n",
      "baby makes proud lord dont make proud never makes scene hanging crowd cause people like talk lord dont love talk turn lights know shell leaving get behind closed doors lets hair hang makes glad im man oh one knows goes behind closed doors baby makes smile lord dont make smile shes never far away tired say want shes always lady like lady turn lights shes still baby get behind closed doors lets hair hang makes glad im man oh one knows goes behind closed doors behind closed doors\n",
      "\tCountry\n",
      "\n",
      "remember wearin straight leg levis flannel shirts even werent style remember singin roy rogers movies west really wild listenin opry friends diggin rock n roll rhythm blues country country wasnt cool remember circlin drivein pullin turnin george jones remember one lookin puttin peanuts coke took lot kiddin cause never fit look everybody tryin country country wasnt cool oooh chorus country country wasnt cool country hat boots still act look see aint nothin new country country wasnt cool instrumental break call us country bumpkins stickin roots im glad country free choose country country wasnt cool george jones hey country country wasnt cool yeah country hat whoa boots still act look see aint nothin new yeah country country wasnt cool\n",
      "\tCountry\n",
      "\n",
      "great faithfulness god jacob wrestle sinners restless heart lead still waters mercy nothing keep us apart remember people remember children remember promise god grace enough yes grace enough grace enough great love justice god jacob use weak lead strong lead us song salvation people sing along remember people remember children remember promise god grace enough grace enough grace enough yeah grace enough grace enough grace enough remember people remember children remember promise god grace enough grace enough grace enough yeah grace enough heaven reaches us grace enough god sing grace enough im covered love grace enough enough\n",
      "\tChristian\n",
      "\n",
      "elvira elvira hearts fire elvira eyes look like heaven lips like sherry wine girl sure enough make little light shine get funny feelin spine cause know elviras mine im singin elvira elvira hearts fire elvira giddy oom poppa omm poppa mow mow giddy oom poppa omm poppa mow mow heighho silver away tonight im gon na meet hungry house cafe im gon na give love yes shes gon na jump holler cause ive saved last two dollars gon na search find preacher man im singin elvira elvira hearts fire elvira giddy oom poppa omm poppa mow mow giddy oom poppa omm poppa mow mow heighho silver away elvira elvira hearts fire elvira giddy oom poppa omm poppa mow mow giddy oom poppa omm poppa mow mow heighho silver away elvira elvira hearts fire elvira giddy oom poppa omm poppa mow mow giddy oom poppa omm poppa mow mow heighho silver away elvira elvira hearts fire elvira\n",
      "\tCountry\n",
      "\n",
      "ever passed corner forth grand little ball rhythm shoeshine stand people gather round clap hands hes great big bundle joy pops boogie woogie rag chattanoogie shoeshine boy charges nickel shine one shoe makes oldest kind leather look like new feel though wan na dance gets hes great big bundle joy pops boogie woogie rag chattanoogie shoeshine boy wonder rag dont tear way makes pop ought see fan air hoppityhippityhippityhoppityhoppityhippityhop opens business clock strikes nine likes get early theyre feelin fine everybody gets little rise n shine great big bundle joy pops boogie woogie rag chattanoogie shoeshine boy wonder rag dont tear way makes pop listen fan air goes opens business clock strikes nine likes get early theyre feelin fine everybody gets little rise n shine great big bundle joy pops boogie woogie rag chattanoogie shoeshine boy chattanoogie shoeshine boy\n",
      "\tCountry\n",
      "\n",
      "hear train comin rollin round bend aint seen sunshine since dont know im stuck folsom prison time keeps draggin train keeps rollin san antone baby mama told son always good boy dont ever play guns shot man reno watch die hear whistle blowin hang head cry bet theres rich folk eatin fancy dinin car theyre probly drinkin coffee smokin big cigars well know comin know cant free people keep movin thats tortures well freed prison railroad train mine bet id move little farther line far folsom prison thats want stay id let lonesome whistle blow blues away\n",
      "\tCountry\n",
      "\n",
      "slowly im falling love slowly youre winning heart true cant hide feelings matter slowly im falling love need want side love day passes heart know youre stealing hope youll true slowly im falling love slowly im falling love slowly youre winning heart true cant hide feelings matter slowly im falling love\n",
      "\tCountry\n",
      "\n",
      "shes goodhearted woman love goodtimin man loves spite wicked ways dont understand teardrops laughter theyll pass world hand hand shes goodhearted woman loving goodtimin man well long time forgotten dreams fell way good life promised aint shes living today never complains bad times bad things hes done talks good times theyve good times come shes goodhearted woman love goodtimin man loves spite wicked ways dont understand teardrops laughter theyll pass world hand hand shes goodhearted woman loving goodtimin man likes bright light nite life goodtimin friends partys shell welcome back home dont understand best goodhearted woman lovin goodtimin man shes goodhearted woman love goodtimin man loves spite wicked ways dont understand teardrops laughter theyll pass world hand hand shes goodhearted woman loving goodtimin man shes goodhearted woman loving goodtimin man\n",
      "\tCountry\n",
      "\n",
      "take world dont need anymore finally free heart spoken oh praise oh worship covered love divine child risen lord hear say ones mine heart spoken peace ive never known find complete heart spoken oh praise oh worship covered love divine child risen lord hear say ones mine heart spoken power cross youve taken lost made fully redeemed spoke spoken covered love divine child risen lord hear say ones mine heart spoken yeah covered love divine child risen lord hear say ones mine heart spoken take world dont need anymore\n",
      "\tChristian\n",
      "\n",
      "tex owens moan cattle prowlin coyotes howlin doggies bawl spurs jinglin cowboy singin lonesome cattle call moan rides sun till days work done rounds cattle fall moan singin cattle call hours ride range far wide night wind blows squall heart feather kinds weather sings cattle call moan hes brown berry ridin prairie sings old western drawl moan singin cattle call moan\n",
      "\tCountry\n",
      "\n",
      "ive enough spotlight burns bright see gets blood ive tasted share sweet life wild ride found little quite enough know stray fast heart could change empty selfishness inside every vain ambition poison pride foolish thing heart holds lord empty filled ive seen enough quick buys best lies know prodigals drawn away know stray fast heart could change empty selfishness inside every vain ambition poison pride foolish thing heart holds lord empty filled cause everything lesser thing compared compared cause everything lesser thing compared surrender empty selfishness inside every vain ambition poison pride empty selfishness inside every vain ambition poison pride foolish thing heart holds lord empty lord empty filled oh filled empty\n",
      "\tChristian\n",
      "\n",
      "crowded worship today slips trying fade faces girls teasing laughter carrying farther know farther know chorus body arent arms reaching arent hands healing arent words teaching body arent feet going love showing way way traveler far away home sheds coat quietly sinks back row weight judgmental glances tell chances better road chorus body arent arms reaching arent hands healing arent words teaching body arent feet going love showing way jesus paid much high price us pick choose come body christ chorus x body arent arms reaching arent hands healing arent words teaching body arent feet going love showing way jesus way\n",
      "\tChristian\n",
      "\n",
      "count million times people asking praise ive gone question amazes circumstances possibly change forever maybe since life changed long rainy days never really ever crossed mind turn back oh lord shelter storm instead draw closer times pray bring joy bring peace bring chance free bring anything brings glory know therell days life brings pain thats takes praise jesus bring rain regardless dark clouds may loom much greater pain pray bring joy bring peace bring chance free bring anything brings glory know therell days life brings pain thats takes praise jesus bring rain holy holy holy holy holy holy lord god almighty lord god almighty forever sing holy holy holy holy holy holy lord god almighty lord god almighty everybody sing holy holy holy holy holy holy lord god almighty lord god almighty holy holy lord holy lord god lord god almighty yeah yeah yeah everybody sing holy holy oh holy holy holy yeah yeah yeah lord god almighty lord god almighty yeah yeah yeah yeah holy holy holy holy holy holy lord god almighty lord god almighty\n",
      "\tChristian\n",
      "\n",
      "lyrics promise lifetime yet\n",
      "\tChristian\n",
      "\n",
      "giver every breath breathe author eternity giver every perfect thing glory maker heaven earth one comprehend worth king universe glory im alive im alive jesus im alive blood jesus christ covers raised dead mans life jesus im alive im alive im alive giver every breath breathe author eternity giver every perfect thing glory maker heaven earth one comprehend worth king universe glory im alive im alive jesus im alive blood jesus christ covers raised dead mans life jesus every sunrise sings praise universe cries praise im singing freedom days im alive jesus im alive blood jesus christ covers raised dead mans life yeah jesus jesus im alive blood jesus christ covers raised dead mans life jesus im alive im alive im alive im alive im alive alive alive yeah\n",
      "\tChristian\n",
      "\n",
      "say hey good lookin whatcha got cookin hows cookin somethin hey sweet baby dont think maybe could find us brand new recipe got hot rod ford two dollar bill know spot right hill theres soda pop dancins free wan na fun come along say hey good lookin whatcha got cookin hows cookin somethin im free ready go steady hows savin time lookin know ive tooken hows keepin steady company im gon na throw date book fence find one five ten cents ill keep til covered age cause im writin name evry page say hey good lookin whatcha got cookin hows cookin somethin\n",
      "\tCountry\n",
      "\n",
      "hear lonesome whippoorwill sounds blue fly midnight train whining low im lonesome could cry ive never seen night long time goes crawling moon went behind clouds hide face cry ever see robin weep leaves begin die like hes lost live im lonesome could cry silence falling star lights purple sky wonder im lonesome could cry\n",
      "\tCountry\n",
      "\n",
      "rolls sleeves aint putting ritz god awesome god theres thunder footsteps lightning fists god awesome god lord wasnt joking kicked em eden wasnt reason shed blood return close better believing god awesome god god awesome god reigns heaven wisdom power love god awesome god god awesome god reigns heaven wisdom power love god awesome god sky starless void night god awesome god spoke darkness created light god awesome god judgement wrath poured sodom mercy grace gave us cross hope quickly forgotten god awesome god god awesome god reigns heaven wisdom power love god awesome god god awesome god reigns heaven wisdom power love god awesome god god awesome god reigns heaven wisdom power love god awesome god god awesome god reigns heaven wisdom power love god awesome god god awesome god god awesome god reigns heaven reigns heaven wisdom power love wisdom power love god awesome god god awesome god god awesome god\n",
      "\tChristian\n",
      "\n",
      "dont god put stand god hold palm hand god thats holding dont god create place live money make god made everything dont need temporary manmade deity got real thing got real thing hes lord earth maker things alone one true god kingdoms rise fall even remains one true god dont thing got dont care carry alone god whos carrying dont sin doesnt forgive dont heart worthy god still loves dont need temporary manmade deity got real thing got real thing lord earth maker things alone one true god kingdoms rise fall even remains one true god king glory lord strong mighty king glory lord strong mighty king glory king glory hes lord earth maker things alone one true god kingdoms rise fall even remains one true god hes lord earth maker things alone one true god kingdoms rise fall even remains one true god one true god dont god put stand dont god hold hand god holding\n",
      "\tChristian\n",
      "\n",
      "theres star spangled banner waving somewhere distant land many miles away uncle sams great heroes get go wished could also live someday id see lincoln custer washington perry nathan hale colin kelly theres star spangled banner waving somewhere waving oer land heroes brave true war mad schemes destruction country fair sweet liberty mad dictators leaders corruption cant us use mountain boy like god gave right free american precious right id gladly die theres star spangled banner waving somewhere want live die though realize im crippled true sir please dont judge courage twisted leg let show uncle sam sir let help bring axis peg great deed hero hero brave want theres star spangled banner waving somewhere heaven place\n",
      "\tCountry\n",
      "\n",
      "standing window dark cloudy day saw hearse come rolling carry mother away circle unbroken lord theres better home awaiting sky lord sky lord told undertaker undertaker please drive slow body holding lord lord hate see go circle unbroken lord theres better home awaiting sky lord sky followed close behind tried hold brave could hide sorrow laid grave circle unbroken lord theres better home awaiting sky lord sky went home lord home lonesome yes mother gone brothers sisters cryin home sit alone circle unbroken lord theres better home awaiting sky lord sky\n",
      "\tCountry\n",
      "\n",
      "well born coal miners daughter cabin hill butcher holler poor love thats one thing daddy made sure shoveled coal make poor mans dollar daddy worked night van leer coal mine day long field hoein corn mommy rocked babies night read bible coal oil light everything would start come break morn daddy loved raised eight kids miners pay mommy scrubbed clothes washboard everyday well ive seen fingers bleed complain need shed smile mommys understanding way summertime didnt shoes wear wintertime wed get brand new pair mail order catalog money made sellin hog daddy always managed get money somewhere yeah im proud coal miners daughter remember well well drew water work done hard night wed sleep cause tired never thought ever leavin butcher holler well lot things changed since way back good back home much left floor nothin lives anymore except memories coal miners daughter\n",
      "\tCountry\n",
      "\n",
      "words worship rise like river within thoughts express many wan na bless god cant silent think mercies show lips begin overflowing great love gratitude youve done jesus top lungs sing hallelujah youre one saved one gave life live forevermore forevermore top lungs sing hallelujah im ashamed ill praise name let whole world know love lord love lord worthy join song creation rings across evry nation let heart heard need dont care knows depths soul top lungs sing hallelujah youre one saved one gave life live forevermore forevermore top lungs sing hallelujah im ashamed ill praise name let whole world know love lord love lord let love loud sing joyful noise days joyful noise lift voice lift voice top lungs sing hallelujah youre one saved one gave life live forevermore forevermore top lungs sing hallelujah im ashamed ill praise name let whole world know love lord love lord\n",
      "\tChristian\n",
      "\n",
      "darkest day history lost cross beaten battered bruised beyond description gave went wrong couldnt end heavens story cause came save beat grave three days theyre looking body gone know saved day day rolled stone away empty grave say reign saved day tore holy veil away opened wide prison gates saved day rescued shackles failure dead night shined light gift love hope springs eternal things new saved day day rolled stone away empty grave say reign saved day tore holy veil away opened wide prison gates saved day oh god rescued iniquities gift love hope springs eternal things new saved day day rolled stone away empty grave say reign saved day tore holy veil away opened wide prison gates saved day saved day day rolled stone away empty grave say reign saved day tore holy veil away opened wide prison gates saved day\n",
      "\tChristian\n",
      "\n",
      "dolly parton greatest hits jolene jolene jolene jolene jolene im begging please dont take man jolene jolene jolene jolene please dont take beauty beyond compare flaming locks auburn hair ivory skin eyes emerald green smile like breath spring voice soft like summer rain compete jolene talks sleep theres nothing keep crying calls name jolene easily understand could easily take man dont know means jolene jolene jolene jolene jolene im begging please dont take man jolene jolene jolene jolene please dont take could choice men could never love hes one jolene talk happiness depends whatever decide jolene jolene jolene jolene jolene im begging please dont take man jolene jolene jolene jolene please dont take even though jolene jolene\n",
      "\tCountry\n",
      "\n",
      "listen jingle rumble roar glides along woodland oer hills shore hear rush mighty engine hear lonesome hobos call hes riding jungle wabash cannon ball western states dandies southern people say chicago st louis peoria way lake minnesota rippling waters flow chances taken wabash cannon ball listen jingle rumble roar glides along woodland oer hills shore hear rush mighty engine hear lonesome hobos call hes riding jungle wabash cannon ball pulled station one cold december day rolled platform could hear people say gal birmingham shes elong shes tall came georgia wabash cannon ball listen jingle rumble roar glides along woodland oer hills shore hear rush mighty engine hear lonesome hobos call hes riding jungle wabash cannon ball heres daddy claxton may name forever stand always remembered courts land earthly race curtain falls well carry back dixie wabash cannon ball wabash cannonball listen jingle rumble roar glides along woodland oer hills shore hear rush mighty engine hear lonesome hobos call hes riding jungle wabash cannon ball\n",
      "\tCountry\n",
      "\n",
      "taught sun stand morning told ocean come far showed moon hide till evening whose words alone catch falling star well know redeemer lives know redeemer lives creation testifies life within cries know redeemer lives yeeeah god spins things orbit runs weary worn weak gentle hands hold im broken conquered death bring victory know redeemer lives know redeemer lives let creation testify let life within cry iii know redeemer lives take away shame lives forever ill proclaim payment sin precious life gave hes alive theres empty grave know redeemer lives lives know redeemer lives let creation testify let life within cry iii know redeemer know redeemer lives know redeemer lives know know know know know lives lives face tomorrow lives know know lives spoke morning lives tomb empty lives im going tell everybody\n",
      "\tChristian\n",
      "\n",
      "look around staring back another wave doubt pull wonder im overtaken never make ones hear prayer take first step unknown know wont let go waiting lose insecurities try hold know youre made dont afraid move faith takes walk water get let fear fall ground time waste dont wait dont turn around miss everything made got ta know youre sure play safe try run away take first step unknown wont let go waiting lose insecurities try hold know youre made dont afraid move faith takes walk water step even storming step even youre broken step even heart telling telling give step hope stolen step cant see youre going dont afraid waiting waiting waiting lose insecurities try hold know youre made dont afraid move faith takes walk water walk water\n",
      "\tChristian\n",
      "\n",
      "youre better place ive heard thousand times least thousand times ive rejoiced reason im broken reason cry long must wait close eyes see face homes heart im place lord wont give strength make somehow ive never homesick help lord cause dont understand ways reason wonder ill ever know even showed hurt would cause im still far away home close eyes see face homes heart im place lord wont give strength make somehow ive never homesick christ goodbyes christ end ill hold onto jesus see see close eyes see face homes heart im place lord wont give strength make somehow wont give strength make somehow wont give strength make somehow ive never homesick\n",
      "\tChristian\n",
      "\n",
      "calloused bruised dazed confused spirit left wanting something selfish hopes selfish dreams im lying face floor im crying crying chorus give words speak dont let spirit sleep cause cant think anything worth saying know owe life give words speak dont let spirit sleep every night every day find nothing left say stand silence awaiting guidance im wanting voice heard let words let words chorus dont understand life ive living dont understand x dont understand lies ive believing dont understand x chorus x know owe life owe life owe life x\n",
      "\tChristian\n",
      "\n",
      "everybody falls sometimes got ta find strength rise ashes make new beginning anyone feel ache think take youre stronger stronger know dont give sun soon shining got ta face clouds find silver lining ive seen dreams move mountains hope doesnt ever end even sky falling ive seen miracles happen silent prayers get answered broken hearts become brand new thats faith doesnt matter youve heard impossible word reason someone try everybodys scared death decide take step water itll alright life much eyes seeing find way keep believing ive seen dreams move mountains hope doesnt ever end even sky falling ive seen miracles happen silent prayers get answered broken hearts become brand new thats faith overcome odds chance thats faith world says cant itll tell ive seen dreams move mountains hope doesnt ever end even sky falling ive seen miracles happen silent prayers get answered broken hearts become brand new thats faith thats faith even fall sometimes strength rise\n",
      "\tChristian\n",
      "\n",
      "ive got tiger tail plain see wont much get well im losing weight turnin mighty pale looks like ive got tiger tail well thought day met meek lamb kind fit dreams plans pace livin takes wind sails looks like ive got tiger tail ive got tiger tail plain see wont much get well im losing weight turnin mighty pale looks like ive got tiger tail well every night drag bright lights found aint way slow im helpless leaf gale looks like ive got tiger tail ive got tiger tail plain see wont much get well im losing weight turnin mighty pale looks like ive got tiger tail\n",
      "\tCountry\n",
      "\n",
      "crazy im crazy feeling lonely im crazy crazy feeling blue knew youd love long wanted someday youd leave somebody new worry let worry wonderin world crazy thinkin love could hold im crazy tryin crazy cryin im crazy lovin crazy thinking love could hold im crazy tryin crazy cryin im crazy lovin\n",
      "\tCountry\n",
      "\n",
      "draw close never let go lay hear say im friend desire one else cause nothing else take place feel warmth embrace help find way bring back bring back oh jesus draw close never let go lay hear say im friend desire one else cause nothing else take place feel warmth embrace help find way bring back youre want youre ive ever needed youre want help know near youre want youre ive ever needed youre want help know near help know near help know near youre want oh yes youre ive ive ever needed youre want help know youre near help know near dont ever leave dont ever leave help know near dont ever leave jesus help know near\n",
      "\tChristian\n",
      "\n"
     ]
    }
   ],
   "source": [
    "from sklearn.model_selection import train_test_split \n",
    "x_train, x_test, y_train, y_test = train_test_split(columns.lemmatized, columns.genre, train_size = 0.6)\n",
    "for x, y in zip(x_test, y_test):\n",
    "    print(x + \"\\n\\t\" + y + \"\\n\")"
   ]
  },
  {
   "cell_type": "code",
   "execution_count": 51,
   "metadata": {},
   "outputs": [
    {
     "data": {
      "text/plain": [
       "Christian    94\n",
       "Country      87\n",
       "Name: genre, dtype: int64"
      ]
     },
     "execution_count": 51,
     "metadata": {},
     "output_type": "execute_result"
    }
   ],
   "source": [
    "columns.genre.value_counts()"
   ]
  },
  {
   "attachments": {},
   "cell_type": "markdown",
   "metadata": {},
   "source": [
    "### Vektörizasyon\n",
    "\n",
    "Bir sonraki aşama, kodlanmış verilerin gelecekte model üzerinde kullanılabilmesi için metnin sayısal biçimde temsili olan vektörleştirmedir.\n",
    "\n",
    "Bazen, tek tek kelimelere ek olarak, öğrenme kalitesini artırmak için 2-3 kelimelik kombinasyonların kullanılması da yararlı olacaktır. Burada yerleşik bir n-gram torba yöntemine sahip olan CountVectorizer vektörleştiricisini kullanıyoruz.\n",
    "\n",
    "n = 1 - unigram (kelimeler eğitim için ayrı ayrı kullanılır)\n",
    "\n",
    "n = 2 - bigram (eğitim için kelime çiftleri kullanılır)\n",
    "\n",
    "n = 3 - trigram (eğitim için üç kelime kullanılır)\n"
   ]
  },
  {
   "cell_type": "code",
   "execution_count": 52,
   "metadata": {},
   "outputs": [],
   "source": [
    "from sklearn.feature_extraction.text import CountVectorizer"
   ]
  },
  {
   "attachments": {},
   "cell_type": "markdown",
   "metadata": {},
   "source": [
    "Vectorizer için ngram_range=(1, 3) ayarlayın, 1'den 3'e kadar n'nin tüm değişkenlerini kullanırız ve hem unigramlara hem de bigramlara ve trigramlara başvururuz:"
   ]
  },
  {
   "cell_type": "code",
   "execution_count": 53,
   "metadata": {},
   "outputs": [],
   "source": [
    "vectorizer = CountVectorizer(ngram_range=(1, 3))\n",
    "vectorized_x_train = vectorizer.fit_transform(x_train)"
   ]
  },
  {
   "attachments": {},
   "cell_type": "markdown",
   "metadata": {},
   "source": [
    "### Sınıflandırma\n",
    "\n",
    "Sınıflandırma problemi için Bayes teoreminin katı bağımsızlık varsayımlarıyla uygulanmasına dayanan basit bir olasılıksal sınıflandırıcı olan Naive Bayesian Sınıflandırıcı kullanıyoruz."
   ]
  },
  {
   "cell_type": "code",
   "execution_count": 54,
   "metadata": {},
   "outputs": [
    {
     "data": {
      "text/html": [
       "<style>#sk-container-id-2 {color: black;background-color: white;}#sk-container-id-2 pre{padding: 0;}#sk-container-id-2 div.sk-toggleable {background-color: white;}#sk-container-id-2 label.sk-toggleable__label {cursor: pointer;display: block;width: 100%;margin-bottom: 0;padding: 0.3em;box-sizing: border-box;text-align: center;}#sk-container-id-2 label.sk-toggleable__label-arrow:before {content: \"▸\";float: left;margin-right: 0.25em;color: #696969;}#sk-container-id-2 label.sk-toggleable__label-arrow:hover:before {color: black;}#sk-container-id-2 div.sk-estimator:hover label.sk-toggleable__label-arrow:before {color: black;}#sk-container-id-2 div.sk-toggleable__content {max-height: 0;max-width: 0;overflow: hidden;text-align: left;background-color: #f0f8ff;}#sk-container-id-2 div.sk-toggleable__content pre {margin: 0.2em;color: black;border-radius: 0.25em;background-color: #f0f8ff;}#sk-container-id-2 input.sk-toggleable__control:checked~div.sk-toggleable__content {max-height: 200px;max-width: 100%;overflow: auto;}#sk-container-id-2 input.sk-toggleable__control:checked~label.sk-toggleable__label-arrow:before {content: \"▾\";}#sk-container-id-2 div.sk-estimator input.sk-toggleable__control:checked~label.sk-toggleable__label {background-color: #d4ebff;}#sk-container-id-2 div.sk-label input.sk-toggleable__control:checked~label.sk-toggleable__label {background-color: #d4ebff;}#sk-container-id-2 input.sk-hidden--visually {border: 0;clip: rect(1px 1px 1px 1px);clip: rect(1px, 1px, 1px, 1px);height: 1px;margin: -1px;overflow: hidden;padding: 0;position: absolute;width: 1px;}#sk-container-id-2 div.sk-estimator {font-family: monospace;background-color: #f0f8ff;border: 1px dotted black;border-radius: 0.25em;box-sizing: border-box;margin-bottom: 0.5em;}#sk-container-id-2 div.sk-estimator:hover {background-color: #d4ebff;}#sk-container-id-2 div.sk-parallel-item::after {content: \"\";width: 100%;border-bottom: 1px solid gray;flex-grow: 1;}#sk-container-id-2 div.sk-label:hover label.sk-toggleable__label {background-color: #d4ebff;}#sk-container-id-2 div.sk-serial::before {content: \"\";position: absolute;border-left: 1px solid gray;box-sizing: border-box;top: 0;bottom: 0;left: 50%;z-index: 0;}#sk-container-id-2 div.sk-serial {display: flex;flex-direction: column;align-items: center;background-color: white;padding-right: 0.2em;padding-left: 0.2em;position: relative;}#sk-container-id-2 div.sk-item {position: relative;z-index: 1;}#sk-container-id-2 div.sk-parallel {display: flex;align-items: stretch;justify-content: center;background-color: white;position: relative;}#sk-container-id-2 div.sk-item::before, #sk-container-id-2 div.sk-parallel-item::before {content: \"\";position: absolute;border-left: 1px solid gray;box-sizing: border-box;top: 0;bottom: 0;left: 50%;z-index: -1;}#sk-container-id-2 div.sk-parallel-item {display: flex;flex-direction: column;z-index: 1;position: relative;background-color: white;}#sk-container-id-2 div.sk-parallel-item:first-child::after {align-self: flex-end;width: 50%;}#sk-container-id-2 div.sk-parallel-item:last-child::after {align-self: flex-start;width: 50%;}#sk-container-id-2 div.sk-parallel-item:only-child::after {width: 0;}#sk-container-id-2 div.sk-dashed-wrapped {border: 1px dashed gray;margin: 0 0.4em 0.5em 0.4em;box-sizing: border-box;padding-bottom: 0.4em;background-color: white;}#sk-container-id-2 div.sk-label label {font-family: monospace;font-weight: bold;display: inline-block;line-height: 1.2em;}#sk-container-id-2 div.sk-label-container {text-align: center;}#sk-container-id-2 div.sk-container {/* jupyter's `normalize.less` sets `[hidden] { display: none; }` but bootstrap.min.css set `[hidden] { display: none !important; }` so we also need the `!important` here to be able to override the default hidden behavior on the sphinx rendered scikit-learn.org. See: https://github.com/scikit-learn/scikit-learn/issues/21755 */display: inline-block !important;position: relative;}#sk-container-id-2 div.sk-text-repr-fallback {display: none;}</style><div id=\"sk-container-id-2\" class=\"sk-top-container\"><div class=\"sk-text-repr-fallback\"><pre>MultinomialNB()</pre><b>In a Jupyter environment, please rerun this cell to show the HTML representation or trust the notebook. <br />On GitHub, the HTML representation is unable to render, please try loading this page with nbviewer.org.</b></div><div class=\"sk-container\" hidden><div class=\"sk-item\"><div class=\"sk-estimator sk-toggleable\"><input class=\"sk-toggleable__control sk-hidden--visually\" id=\"sk-estimator-id-2\" type=\"checkbox\" checked><label for=\"sk-estimator-id-2\" class=\"sk-toggleable__label sk-toggleable__label-arrow\">MultinomialNB</label><div class=\"sk-toggleable__content\"><pre>MultinomialNB()</pre></div></div></div></div></div>"
      ],
      "text/plain": [
       "MultinomialNB()"
      ]
     },
     "execution_count": 54,
     "metadata": {},
     "output_type": "execute_result"
    }
   ],
   "source": [
    "from sklearn.naive_bayes import MultinomialNB \n",
    "clf = MultinomialNB()\n",
    "clf.fit(vectorized_x_train, y_train)"
   ]
  },
  {
   "cell_type": "code",
   "execution_count": 55,
   "metadata": {},
   "outputs": [
    {
     "data": {
      "text/plain": [
       "19     worthy lamb slain holy holy sing new song sits...\n",
       "170    ill bet youve never heard ole marshall dillon ...\n",
       "27     oh would kind faith takes climb boat im onto c...\n",
       "122    im walkin floor cant sleep wink true im hoping...\n",
       "137    well thought id waitin came home last night yo...\n",
       "                             ...                        \n",
       "86     calloused bruised dazed confused spirit left w...\n",
       "87     everybody falls sometimes got ta find strength...\n",
       "123    ive got tiger tail plain see wont much get wel...\n",
       "102    crazy im crazy feeling lonely im crazy crazy f...\n",
       "51     draw close never let go lay hear say im friend...\n",
       "Name: lemmatized, Length: 73, dtype: object"
      ]
     },
     "execution_count": 55,
     "metadata": {},
     "output_type": "execute_result"
    }
   ],
   "source": [
    "vectorized_x_test = vectorizer.transform(x_test)\n",
    "x_test"
   ]
  },
  {
   "cell_type": "code",
   "execution_count": 56,
   "metadata": {},
   "outputs": [
    {
     "name": "stdout",
     "output_type": "stream",
     "text": [
      "              precision    recall  f1-score   support\n",
      "\n",
      "   Christian       0.88      0.97      0.93        38\n",
      "     Country       0.97      0.86      0.91        35\n",
      "\n",
      "    accuracy                           0.92        73\n",
      "   macro avg       0.92      0.92      0.92        73\n",
      "weighted avg       0.92      0.92      0.92        73\n",
      "\n"
     ]
    }
   ],
   "source": [
    "from sklearn.metrics import * \n",
    "pred = clf.predict(vectorized_x_test)\n",
    "print(classification_report(y_test, pred))"
   ]
  }
 ],
 "metadata": {
  "kernelspec": {
   "display_name": "P3.11",
   "language": "python",
   "name": "python3"
  },
  "language_info": {
   "codemirror_mode": {
    "name": "ipython",
    "version": 3
   },
   "file_extension": ".py",
   "mimetype": "text/x-python",
   "name": "python",
   "nbconvert_exporter": "python",
   "pygments_lexer": "ipython3",
   "version": "3.11.0"
  },
  "orig_nbformat": 4,
  "vscode": {
   "interpreter": {
    "hash": "06c32c6face0f367f89efe3cea2be68ff760537647877fcaf3e9ef2a70f6bc2f"
   }
  }
 },
 "nbformat": 4,
 "nbformat_minor": 2
}
