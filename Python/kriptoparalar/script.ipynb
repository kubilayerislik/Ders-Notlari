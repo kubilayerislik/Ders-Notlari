{
 "cells": [
  {
   "cell_type": "code",
   "execution_count": 2,
   "metadata": {},
   "outputs": [],
   "source": [
    "from bs4 import BeautifulSoup\n",
    "from selenium import webdriver\n",
    "from datetime import datetime\n",
    "import pandas as pd\n",
    "import time\n",
    "\n",
    "\n",
    "working_time = 0\n",
    "starting_time = datetime.now()\n",
    "\n",
    "\n",
    "while (datetime.now()-starting_time).seconds <= 240:\n",
    "    data = []\n",
    "    degisken = []\n",
    "    gozlem = []\n",
    "    degisken.append(\"Zaman\")\n",
    "    now = datetime.now()\n",
    "    current_time = now.strftime(\"%H:%M:%S\")\n",
    "    gozlem.append(current_time)\n",
    "    driver = webdriver.Chrome('./chromedriver')\n",
    "    driver.get(\"https://finance.yahoo.com/cryptocurrencies/\")\n",
    "\n",
    "    sonuc = BeautifulSoup(driver.page_source, \"html.parser\")\n",
    "    driver.close()\n",
    "    table = sonuc.find(\"table\", attrs={\"class\": \"W(100%)\"})\n",
    "    table_body = table.find(\"tbody\")\n",
    "    rows = table_body.find_all(\"tr\")\n",
    "    for row in rows:\n",
    "        cols = row.find_all(\"td\")\n",
    "        cols = [ele.text.strip() for ele in cols]\n",
    "        data.append([ele for ele in cols if ele])\n",
    "\n",
    "    for para in data:\n",
    "        degisken.append(para[1])\n",
    "        gozlem.append(para[2])\n",
    "\n",
    "    dataframe = pd.DataFrame([gozlem], columns=degisken)\n",
    "\n",
    "    df = pd.read_excel(\"kriptolar.xlsx\")\n",
    "    df2 = pd.concat([df, dataframe])\n",
    "    df2.to_excel(\"kriptolar.xlsx\", index=False)\n",
    "    time.sleep(30)\n"
   ]
  }
 ],
 "metadata": {
  "interpreter": {
   "hash": "9dcf07afacfe22a525ab652098aab85c4d5967fd614b540230eb9518018a0fd2"
  },
  "kernelspec": {
   "display_name": "Python 3.8.10 ('Analiz')",
   "language": "python",
   "name": "python3"
  },
  "language_info": {
   "codemirror_mode": {
    "name": "ipython",
    "version": 3
   },
   "file_extension": ".py",
   "mimetype": "text/x-python",
   "name": "python",
   "nbconvert_exporter": "python",
   "pygments_lexer": "ipython3",
   "version": "3.8.10"
  },
  "orig_nbformat": 4
 },
 "nbformat": 4,
 "nbformat_minor": 2
}
